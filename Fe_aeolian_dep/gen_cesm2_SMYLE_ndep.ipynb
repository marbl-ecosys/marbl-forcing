{
 "cells": [
  {
   "cell_type": "code",
   "execution_count": 1,
   "metadata": {},
   "outputs": [],
   "source": [
    "from datetime import date, datetime, timezone\n",
    "\n",
    "import cftime\n",
    "import git\n",
    "import matplotlib.pyplot as plt\n",
    "import numpy as np\n",
    "import xarray as xr\n",
    "\n",
    "import config\n",
    "import util"
   ]
  },
  {
   "cell_type": "code",
   "execution_count": 2,
   "metadata": {},
   "outputs": [],
   "source": [
    "# script identifier to go in generated file\n",
    "\n",
    "repo = 'github.com/marbl-ecosys/marbl-forcing'\n",
    "sha = git.Repo(search_parent_directories=True).head.object.hexsha\n",
    "script_fname = 'Fe_aeolian_dep/gen_cesm2_SMYLE_ndep.ipynb'\n",
    "id_string = f'{repo}/tree/{sha}/{script_fname}'"
   ]
  },
  {
   "cell_type": "code",
   "execution_count": 3,
   "metadata": {},
   "outputs": [
    {
     "name": "stdout",
     "output_type": "stream",
     "text": [
      "['/glade/p/cesmdata/cseg/inputdata/ocn/pop/gx3v7/forcing/ndep_ocn_1850-2000_w_nhx_emis_gx3v7_c180926.nc', '/glade/p/cesmdata/cseg/inputdata/ocn/pop/gx1v6/forcing/ndep_ocn_1850-2000_w_nhx_emis_gx1v6_c180926.nc']\n",
      "['/glade/p/cesmdata/cseg/inputdata/ocn/pop/gx3v7/forcing/ndep_ocn_ssp370_w_nhx_emis_gx3v7_c190412.nc', '/glade/p/cesmdata/cseg/inputdata/ocn/pop/gx1v6/forcing/ndep_ocn_ssp370_w_nhx_emis_gx1v6_c190412.nc']\n",
      "(1849, 2015)\n",
      "(2014, 2101)\n"
     ]
    }
   ],
   "source": [
    "# input files\n",
    "\n",
    "grids = ['gx3v7', 'gx1v6']\n",
    "\n",
    "dirin = f'{config.inputdata}/ocn/pop'\n",
    "fnames_hist = [f'{dirin}/{grid}/forcing/ndep_ocn_1850-2000_w_nhx_emis_{grid}_c180926.nc' for grid in grids]\n",
    "fnames_ssp = [f'{dirin}/{grid}/forcing/ndep_ocn_ssp370_w_nhx_emis_{grid}_c190412.nc' for grid in grids]\n",
    "\n",
    "print(fnames_hist)\n",
    "print(fnames_ssp)\n",
    "\n",
    "ds_hist = [xr.open_dataset(fname_hist) for fname_hist in fnames_hist]\n",
    "ds_ssp = [xr.open_dataset(fname_ssp) for fname_ssp in fnames_ssp]\n",
    "\n",
    "# assume all files have same yr_range, so get yr_range from first file\n",
    "yr_range_hist = (ds_hist[0].time.values[0].year, ds_hist[0].time.values[-1].year)\n",
    "print(yr_range_hist)\n",
    "\n",
    "# assume all files have same yr_range, so get yr_range from first file\n",
    "yr_range_ssp = (ds_ssp[0].time.values[0].year, ds_ssp[0].time.values[-1].year)\n",
    "print(yr_range_ssp)\n",
    "\n",
    "yr_hist_ssp_boundary = 2015"
   ]
  },
  {
   "cell_type": "code",
   "execution_count": 4,
   "metadata": {},
   "outputs": [],
   "source": [
    "# details on file being generated\n",
    "\n",
    "datestamp = date.today().strftime(\"%y%m%d\")\n",
    "\n",
    "def yr_start_cycle0_fosi(yr_range_fosi, cycle_cnt_fosi):\n",
    "    yr_cnt_fosi = yr_range_fosi[1] - yr_range_fosi[0] + 1\n",
    "    return yr_range_fosi[0] - (cycle_cnt_fosi - 1) * yr_cnt_fosi\n",
    "\n",
    "def yr_range_fmt(yr_range):\n",
    "    return f'{yr_range[0]:04d}-{yr_range[1]:04d}'\n",
    "\n",
    "yr_range_JRA = (1958, 2018)\n",
    "yr_start_cycle0_JRA = yr_start_cycle0_fosi(yr_range_JRA, cycle_cnt_fosi=6)\n",
    "\n",
    "yr_lo_SMYLE = yr_start_cycle0_JRA - 1\n",
    "yr_hi_SMYLE = 2025\n",
    "\n",
    "yr_range_SMYLE = (yr_lo_SMYLE, yr_hi_SMYLE)\n",
    "fnames_SMYLE = [f'ndep_ocn_SMYLE_w_nhx_emis_{grid}_{yr_range_fmt(yr_range_SMYLE)}_c{datestamp}.nc' for grid in grids]"
   ]
  },
  {
   "cell_type": "code",
   "execution_count": 5,
   "metadata": {},
   "outputs": [],
   "source": [
    "# construct time values for new datasets\n",
    "\n",
    "def time_vars(yr_range, time_units):\n",
    "    calendar = 'noleap'\n",
    "\n",
    "    days_1yr = np.array([31.0, 28.0, 31.0, 30.0, 31.0, 30.0, 31.0, 31.0, 30.0, 31.0, 30.0, 31.0])\n",
    "    nyrs = yr_range[1] - yr_range[0] + 1\n",
    "    time_edges = np.insert(np.cumsum(np.tile(days_1yr, nyrs)), 0, 0)\n",
    "    time_edges += cftime.date2num(cftime.DatetimeNoLeap(yr_range[0], 1, 1), time_units, calendar='noleap')\n",
    "    time_bnds_vals = np.stack((time_edges[:-1], time_edges[1:]), axis=1)\n",
    "    time_vals = np.mean(time_bnds_vals, axis=1)\n",
    "\n",
    "    time_var = xr.DataArray(time_vals, dims='time', coords={'time':time_vals},\n",
    "                            attrs={'long_name':'time', 'units':time_units, 'calendar':calendar, 'bounds':'time_bnds'})\n",
    "    time_bnds_var = xr.DataArray(time_bnds_vals, dims=('time', 'd2'), coords={'time':time_var})\n",
    "    \n",
    "    return time_var, time_bnds_var\n",
    "\n",
    "time_var_SMYLE, time_bnds_var_SMYLE = time_vars(yr_range_SMYLE, ds_hist[0].time.encoding['units'])"
   ]
  },
  {
   "cell_type": "code",
   "execution_count": 6,
   "metadata": {},
   "outputs": [
    {
     "name": "stdout",
     "output_type": "stream",
     "text": [
      "grid = gx3v7\n",
      "copying ULAT\n",
      "copying ULONG\n",
      "copying TAREA\n",
      "copying REGION_MASK\n",
      "copying KMT\n",
      "processing NOy_deposition\n",
      "processing NHx_deposition\n",
      "grid = gx1v6\n",
      "copying ULAT\n",
      "copying ULONG\n",
      "copying TAREA\n",
      "copying REGION_MASK\n",
      "copying KMT\n",
      "processing NOy_deposition\n",
      "processing NHx_deposition\n"
     ]
    }
   ],
   "source": [
    "# construct new datasets, preserving grid and domain variables from ds_hist\n",
    "\n",
    "for grid_ind, grid in enumerate(grids):\n",
    "    print(f'grid = {grid}')\n",
    "\n",
    "    ds_out = xr.Dataset({'time': time_var_SMYLE, 'time_bnds': time_bnds_var_SMYLE})\n",
    "\n",
    "    for varname, var_in in ds_hist[grid_ind].data_vars.items():\n",
    "        if 'Y' in var_in.dims and 'X' in var_in.dims:\n",
    "            if 'time' not in var_in.dims:\n",
    "                print(f'copying {varname}')\n",
    "                ds_out[varname] = var_in\n",
    "            else:\n",
    "                print(f'processing {varname}')\n",
    "\n",
    "                # initial years use first year of ds_hist[grid_ind]\n",
    "                yr_hist = yr_range_hist[0]\n",
    "                var_in_slice = var_in.sel(time=slice(f'{yr_hist:04d}-01-01', f'{(yr_hist+1):04d}-01-01'))\n",
    "                var_out_prehist_vals = np.tile(var_in_slice, (yr_hist - yr_range_SMYLE[0], 1, 1))\n",
    "\n",
    "                yr_hist = yr_range_hist[0]\n",
    "                var_out_hist_slice = var_in.sel(time=slice(f'{yr_hist:04d}-01-01', f'{yr_hist_ssp_boundary:04d}-01-01')) \n",
    "\n",
    "                var_out_posthist_slice = ds_ssp[grid_ind][varname].sel(time=slice(f'{yr_hist_ssp_boundary:04d}-01-01', f'{(yr_hi_SMYLE+1):04d}-01-01'))\n",
    "                \n",
    "                var_out_vals = np.concatenate((var_out_prehist_vals, var_out_hist_slice.values, var_out_posthist_slice.values))\n",
    "\n",
    "                var_out = xr.DataArray(var_out_vals, dims=var_in.dims,\n",
    "                                       coords={'time':time_var_SMYLE, 'Y':ds_hist[grid_ind].Y, 'X':ds_hist[grid_ind].X})\n",
    "                var_out.attrs = var_in.attrs\n",
    "                var_out.attrs['missing_value'] = var_in.encoding['missing_value']\n",
    "                var_out.encoding['_FillValue'] = var_in.encoding['_FillValue']\n",
    "                ds_out[varname] = var_out\n",
    "\n",
    "    datestamp = datetime.now(timezone.utc).strftime(\"%Y-%m-%d\")\n",
    "    ds_out.attrs['history'] = f'created by {id_string} on {datestamp}'\n",
    "    ds_out.attrs['input_file_list'] = ' '.join([fnames_hist[grid_ind], fnames_ssp[grid_ind]])\n",
    "    util.ds_clean(ds_out).to_netcdf(fnames_SMYLE[grid_ind], unlimited_dims='time')\n"
   ]
  },
  {
   "cell_type": "code",
   "execution_count": null,
   "metadata": {},
   "outputs": [],
   "source": []
  }
 ],
 "metadata": {
  "kernelspec": {
   "display_name": "Python [conda env:analysis]",
   "language": "python",
   "name": "conda-env-analysis-py"
  },
  "language_info": {
   "codemirror_mode": {
    "name": "ipython",
    "version": 3
   },
   "file_extension": ".py",
   "mimetype": "text/x-python",
   "name": "python",
   "nbconvert_exporter": "python",
   "pygments_lexer": "ipython3",
   "version": "3.7.3"
  }
 },
 "nbformat": 4,
 "nbformat_minor": 4
}
