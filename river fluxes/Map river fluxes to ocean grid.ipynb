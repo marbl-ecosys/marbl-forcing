{
 "cells": [
  {
   "cell_type": "markdown",
   "id": "707d7297-b13d-4af4-80f3-017073eafe24",
   "metadata": {},
   "source": [
    "#### Generate river input files on ocean grid\n",
    "\n",
    "Currently the CESM ocean component (either MOM6 or POP) reads in riverine fluxes and adds them to surface fluxes returned from MARBL.\n",
    "Matt Long has river inputs on the `rJRA025` and `rx1` runoff grids.\n",
    "For each pair of runoff and ocean grids, we use the same runoff -> ocean map as CESM."
   ]
  },
  {
   "cell_type": "code",
   "execution_count": null,
   "id": "6f266237-7ef3-477d-8326-e34b0014a8ec",
   "metadata": {},
   "outputs": [],
   "source": [
    "from datetime import datetime\n",
    "import os\n",
    "\n",
    "import xarray as xr\n",
    "import numpy as np\n",
    "from scipy.sparse import csc_matrix \n",
    "\n",
    "date_str = datetime.now().strftime(\"%Y%m%d\")\n",
    "print(f'xarray: {xr.__version__}')\n",
    "print(f'numpy: {np.__version__}')\n",
    "print(f'date string: {date_str}')"
   ]
  },
  {
   "cell_type": "code",
   "execution_count": null,
   "id": "e2e34fdc-a266-4357-964a-616857edba7a",
   "metadata": {},
   "outputs": [],
   "source": [
    "src_grid = 'rJRA025'\n",
    "# dst_grid = 'tx0.66v1'\n",
    "dst_grid = 'tx2_3v2'"
   ]
  },
  {
   "cell_type": "code",
   "execution_count": null,
   "id": "f3f3811e-ae23-4c73-b939-2a7ee96154e0",
   "metadata": {},
   "outputs": [],
   "source": [
    "runoff_data = dict()\n",
    "mapping_dict = dict()\n",
    "mapping_suffix = dict()\n",
    "out_file = dict()\n",
    "rof_grids = ['rJRA025']#, 'rx1']:\n",
    "\n",
    "for rof_grid in rof_grids:\n",
    "    mapping_dict[rof_grid] = dict()\n",
    "    mapping_suffix[rof_grid] = dict()\n",
    "    out_file[rof_grid] = dict()\n",
    "\n",
    "# Store location of runoff data\n",
    "# Nutrient file on runoff grid: /glade/work/mclong/cesm_inputdata/work/river_nutrients.GNEWS_GNM.JRA55.20190602.nc\n",
    "runoff_data['rJRA025'] = os.path.join(os.sep, 'glade', 'work', 'mclong', 'cesm_inputdata', 'work', 'river_nutrients.GNEWS_GNM.JRA55.20190602.nc')\n",
    "# Store location of mapping files\n",
    "root_dir = os.path.join(os.sep, 'glade', 'campaign', 'cesm', 'cesmdata', 'inputdata', 'cpl', 'gridmaps')\n",
    "suffix = 'nnsm_e333r100_190910'\n",
    "mapping_suffix['rJRA025']['tx0.66v1'] = suffix\n",
    "mapping_dict['rJRA025']['tx0.66v1'] = os.path.join(root_dir, 'rJRA025', f'map_JRA025m_to_tx0.66v1_{suffix}.nc')\n",
    "suffix = 'nnsm_e333r100_230415'\n",
    "mapping_suffix['rJRA025']['tx2_3v2'] = suffix\n",
    "mapping_dict['rJRA025']['tx2_3v2'] = os.path.join(os.sep, 'glade', 'work', 'gmarques', 'cesm', 'tx2_3', 'runoff_mapping', f'map_jra_to_tx2_3_{suffix}.nc')\n",
    "\n",
    "# Names for netcdf output\n",
    "for rof_grid in rof_grids:\n",
    "    for ocn_grid in mapping_dict[rof_grid]:\n",
    "        out_file[rof_grid][ocn_grid] = f'riv_nut.gnews_gnm.{rof_grid}_to_{ocn_grid}_{mapping_suffix[rof_grid][ocn_grid]}.{date_str}.nc'\n",
    "\n",
    "out_file[src_grid][dst_grid]"
   ]
  },
  {
   "cell_type": "code",
   "execution_count": null,
   "id": "aa948982-3a9c-415b-9c06-7d2ce4492381",
   "metadata": {},
   "outputs": [],
   "source": [
    "out_vars = [\n",
    "            'din_riv_flux',\n",
    "            'dip_riv_flux',\n",
    "            'don_riv_flux',\n",
    "            'dop_riv_flux',\n",
    "            'dsi_riv_flux',\n",
    "            'dfe_riv_flux',\n",
    "            'dic_riv_flux',\n",
    "            'alk_riv_flux',\n",
    "            'doc_riv_flux'\n",
    "           ]\n",
    "\n",
    "ds_map = xr.open_dataset(mapping_dict[src_grid][dst_grid])\n",
    "ds_roff = xr.open_dataset(runoff_data[src_grid], decode_times=False)[out_vars]\n",
    "ds_roff"
   ]
  },
  {
   "cell_type": "code",
   "execution_count": null,
   "id": "76cc18c1-cc0b-43cb-b8cb-eb6880549bda",
   "metadata": {},
   "outputs": [],
   "source": [
    "# Subroutines for unit conversion to check global integrals after mapping\n",
    "\n",
    "r = 6371220 # radius of earth in m\n",
    "native_area = r*r*ds_map['area_a'].data # r^2 since area is rad^2 not m^2\n",
    "mapped_area = r*r*ds_map['area_b'].data # r^2 since area is rad^2 not m^2\n",
    "def compute_global_integral(native_values, mapped_values, conv_factor, var, print_stat=False):\n",
    "    if print_stat:\n",
    "        global_sum_native = np.sum(native_values*native_area*(0.01*conv_factor)) # 0.01 nmol/cm^2 -> mmol/m^2\n",
    "        global_sum_mapped = np.sum(mapped_values*mapped_area*conv_factor)\n",
    "        rel_err = np.abs((global_sum_native-global_sum_mapped)/global_sum_native)\n",
    "        print(f'{var} stats: sums are {global_sum_native:.3e} (native) and {global_sum_mapped:.3e} (mapped); rel_err is {rel_err:.3e}')"
   ]
  },
  {
   "cell_type": "code",
   "execution_count": null,
   "id": "d02a8db0-caf2-4216-9d58-0cc3552a9099",
   "metadata": {},
   "outputs": [],
   "source": [
    "src_grid_size = np.prod(ds_map['src_grid_dims'].data)\n",
    "src_grid_shape = (ds_map['src_grid_dims'].data[1], ds_map['src_grid_dims'].data[0])\n",
    "dst_grid_size = np.prod(ds_map['dst_grid_dims'].data)\n",
    "dst_grid_shape = (ds_map['dst_grid_dims'].data[1], ds_map['dst_grid_dims'].data[0])\n",
    "mapping_weights_sparse = csc_matrix((ds_map['S'].data,\n",
    "                                     (ds_map['row'].data-1, ds_map['col'].data-1)),\n",
    "                                    shape=(dst_grid_size, src_grid_size))\n",
    "\n",
    "def map_var(ds_src, var_name, scale_factor=0.01, weights=mapping_weights_sparse):\n",
    "    da_list = []\n",
    "    for time in range(len(ds_roff['time'])):\n",
    "        native_values = ds_roff[var_name].isel(time=time).data.reshape(src_grid_size)\n",
    "        mapped_values = mapping_weights_sparse*(scale_factor*native_values)\n",
    "        da_list.append(xr.DataArray(mapped_values.reshape(dst_grid_shape), dims=('y', 'x'), name=var_name))\n",
    "        if var_name in ['din_riv_flux', 'don_riv_flux']:\n",
    "            conv_factor = 28*1e-15*86400*365 # 28 mg / mmol, 1e-15 Tg / mg, 86400 s/d, 365 d/yr\n",
    "        elif var_name in ['dic_riv_flux', 'doc_riv_flux']:\n",
    "            conv_factor = 12*1e-18*86400*365 # 28 mg / mmol, 1e-18 Pg / mg, 86400 s/d, 365 d/yr\n",
    "        elif var_name in ['dip_riv_flux', 'dop_riv_flux', 'dsi_riv_flux']:\n",
    "            conv_factor = 1e-15*86400*365 # 1e-15 Tmol / mmol, 86400 s/d, 365 d/yr\n",
    "        elif var_name in ['dfe_riv_flux']:\n",
    "            conv_factor = 1e-12*86400*365 # 1e-12 Gmol / mmol, 86400 s/d, 365 d/yr\n",
    "        elif var_name in ['alk_riv_flux']:\n",
    "            continue\n",
    "        else:\n",
    "            conv_factor = 0\n",
    "        compute_global_integral(native_values, mapped_values, conv_factor, var_name, print_stat=time in [0, len(ds_roff['time'])-1])\n",
    "    da = xr.concat(da_list, dim='time').assign_coords({'time': ds_src['time'].data})\n",
    "    da.attrs = ds_src[var_name].attrs\n",
    "    da.attrs['units'] = 'mmol/m^2/s'\n",
    "    da.encoding['_FillValue'] = None\n",
    "    return da"
   ]
  },
  {
   "cell_type": "code",
   "execution_count": null,
   "id": "9b4dfe62-d01f-4a3b-9234-beba89244ea7",
   "metadata": {},
   "outputs": [],
   "source": [
    "da_out = map_var(ds_roff, out_vars[0])\n",
    "ds = da_out.to_dataset()\n",
    "for var in out_vars:\n",
    "    if var in ds:\n",
    "        continue\n",
    "    ds[var] = map_var(ds_roff, var)"
   ]
  },
  {
   "cell_type": "code",
   "execution_count": null,
   "id": "5b206cc3-73ef-4694-baee-c7313c43c234",
   "metadata": {},
   "outputs": [],
   "source": [
    "# Update time attributes\n",
    "ds['time'].attrs = ds_roff['time'].attrs\n",
    "ds['time'].attrs['axis'] = 'T'\n",
    "ds['time'].attrs['cartesian_axis'] = 'T'\n",
    "ds['time'].encoding['_FillValue'] = None\n",
    "ds"
   ]
  },
  {
   "cell_type": "code",
   "execution_count": null,
   "id": "0286dc04-9d22-480f-9c58-b191f6457532",
   "metadata": {},
   "outputs": [],
   "source": [
    "ds.isel(time=0)['din_riv_flux'].plot(levels=[0, 1e-9, 1e-8, 1e-7, 1e-6, 1e-5, 1e-4])"
   ]
  },
  {
   "cell_type": "code",
   "execution_count": null,
   "id": "f7881c54-1ad1-4ca4-a602-b3a82c5a7a4f",
   "metadata": {},
   "outputs": [],
   "source": [
    "ds.to_netcdf(out_file[src_grid][dst_grid], unlimited_dims='time')"
   ]
  }
 ],
 "metadata": {
  "kernelspec": {
   "display_name": "NPL 2023b",
   "language": "python",
   "name": "npl-2023b"
  },
  "language_info": {
   "codemirror_mode": {
    "name": "ipython",
    "version": 3
   },
   "file_extension": ".py",
   "mimetype": "text/x-python",
   "name": "python",
   "nbconvert_exporter": "python",
   "pygments_lexer": "ipython3",
   "version": "3.10.12"
  }
 },
 "nbformat": 4,
 "nbformat_minor": 5
}
