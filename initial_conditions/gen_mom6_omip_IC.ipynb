{
 "cells": [
  {
   "cell_type": "code",
   "execution_count": 1,
   "metadata": {},
   "outputs": [],
   "source": [
    "from datetime import date, datetime, timezone\n",
    "import os\n",
    "import warnings\n",
    "\n",
    "import git\n",
    "import matplotlib.pyplot as plt\n",
    "import numpy as np\n",
    "import xarray as xr\n",
    "\n",
    "import esmlab\n",
    "import esmlab_regrid\n",
    "\n",
    "from gen_remap_weights_1d import gen_remap_weights_1d\n",
    "import config\n",
    "import util"
   ]
  },
  {
   "cell_type": "code",
   "execution_count": 2,
   "metadata": {},
   "outputs": [],
   "source": [
    "# script identifier to go in generated file\n",
    "\n",
    "repo = 'github.com/marbl-ecosys/marbl-forcing'\n",
    "sha = git.Repo(search_parent_directories=True).head.object.hexsha\n",
    "script_fname = 'initial_conditions/gen_mom6_omip_IC.ipynb'\n",
    "id_string = f'{repo}/tree/{sha}/{script_fname}'"
   ]
  },
  {
   "cell_type": "code",
   "execution_count": 3,
   "metadata": {},
   "outputs": [
    {
     "name": "stdout",
     "output_type": "stream",
     "text": [
      "/glade/p/cesmdata/cseg/inputdata/cesm2_init/b.e21.B1850.f09_g17.CMIP6-piControl.001/0501-01-01/b.e21.B1850.f09_g17.CMIP6-piControl.001.pop.r.0501-01-01-00000.nc\n"
     ]
    }
   ],
   "source": [
    "# input specifications\n",
    "\n",
    "tracernames = [ 'TEMP', 'SALT',\n",
    "    'NO3', 'PO4', 'SiO3', 'O2', 'DIC', 'ALK', \n",
    "    'spC', 'spChl', 'spFe', 'spP', 'spCaCO3', \n",
    "    'diatC', 'diatChl', 'diatFe', 'diatP', 'diatSi', \n",
    "    'diazC', 'diazChl', 'diazFe', 'diazP', \n",
    "    'zooC', \n",
    "    'DOC', 'DOCr', 'DON', 'DONr', 'DOP', 'DOPr', 'NH4', \n",
    "    'Fe', 'Lig'\n",
    "]\n",
    "\n",
    "# IC specified by OMIP (macronutrients, O2, DIC, ALK)\n",
    "dirin_omip = '/glade/p/cesm/bgcwg/OMIPinit'\n",
    "omip_metadata = {\n",
    "    'TEMP':{'fname':'woa13_temperature_OMIPinit.nc', 'varname':'temp'},\n",
    "    'SALT':{'fname':'woa13_salinity_OMIPinit.nc', 'varname':'salt'},\n",
    "    'NO3':{'fname':'woa13_nitrate_OMIPinit.nc', 'varname':'no3'},\n",
    "    'PO4':{'fname':'woa13_phosphate_OMIPinit.nc', 'varname':'po4'},\n",
    "    'SiO3':{'fname':'woa13_silicate_OMIPinit.nc', 'varname':'si'},\n",
    "    'O2':{'fname':'woa13_oxygen_OMIPinit.nc', 'varname':'o2'},\n",
    "    'DIC':{'fname':'glodapv2_Ct_preind_OMIPinit.nc', 'varname':'Ct_preind'},\n",
    "    'ALK':{'fname':'glodapv2_At_OMIPinit.nc', 'varname':'At'}\n",
    "}\n",
    "\n",
    "# Add grid name to metadata.\n",
    "# This is fragile. It would be better to determine this automatically.\n",
    "# Alternatively, the script would be more self contained if the grid were constructed on the fly.\n",
    "omip_metadata['TEMP']['grid'] = 'latlon_1x1_180W'\n",
    "omip_metadata['SALT']['grid'] = 'latlon_1x1_180W'\n",
    "omip_metadata['NO3']['grid'] = 'latlon_1x1_180W'\n",
    "omip_metadata['PO4']['grid'] = 'latlon_1x1_180W'\n",
    "omip_metadata['SiO3']['grid'] = 'latlon_1x1_180W'\n",
    "omip_metadata['O2']['grid'] = 'latlon_1x1_180W'\n",
    "omip_metadata['DIC']['grid'] = 'latlon_1x1_20E'\n",
    "omip_metadata['ALK']['grid'] = 'latlon_1x1_20E'\n",
    "\n",
    "# get other tracers (living pools, DOM, NH4, Fe, Lig) from refcase\n",
    "refcase = 'b.e21.B1850.f09_g17.CMIP6-piControl.001'\n",
    "refdate = '0501-01-01'\n",
    "dirin_refcase = f'{config.inputdata}/cesm2_init/{refcase}/{refdate}'\n",
    "fname_refcase = f'{dirin_refcase}/{refcase}.pop.r.{refdate}-00000.nc'\n",
    "print(fname_refcase)"
   ]
  },
  {
   "cell_type": "code",
   "execution_count": 4,
   "metadata": {},
   "outputs": [
    {
     "name": "stdout",
     "output_type": "stream",
     "text": [
      "/glade/work/mlevy/cesm_inputdata/ecosys_jan_IC_omip_MOM_tx0.66v1_c190912.nc\n"
     ]
    }
   ],
   "source": [
    "# details on file being generated\n",
    "\n",
    "dst_grid = 'MOM_tx0.66v1'\n",
    "ltripole = True\n",
    "interp_method = 'bilinear'\n",
    "datestamp = date.today().strftime(\"%y%m%d\")\n",
    "fname_out = f'{config.dirout}/ecosys_jan_IC_omip_{dst_grid}_c{datestamp}.nc'\n",
    "print(fname_out)"
   ]
  },
  {
   "cell_type": "code",
   "execution_count": 23,
   "metadata": {},
   "outputs": [],
   "source": [
    "# start ds_out as Dataset of grid variables\n",
    "\n",
    "ds_out = xr.open_dataset('/glade/p/cesmdata/cseg/mapping/grids/tx0.66v1_SCRIP_190314.nc')\n",
    "\n",
    "# add z_t_bounds to SCRIP grid file\n",
    "vert_grid = [2.5, 10, 20, 32.5, 51.25, 75, 100, 125, 156.25, 200, 250, 312.5, 400,\n",
    "             500, 600, 700, 800, 900, 1000, 1100, 1200, 1300, 1400, 1537.5, 1750,\n",
    "             2062.5, 2500, 3000, 3500, 4000, 4500, 5000, 5500, 6000]\n",
    "z_t_edges = np.concatenate(([0.0], np.cumsum(vert_grid)))\n",
    "z_t_bounds_vals = np.stack((z_t_edges[:-1], z_t_edges[1:]), axis=1)\n",
    "ds_out['z_t_bounds'] = xr.DataArray(z_t_bounds_vals, dims=('z_t', 'd2'),\n",
    "                                   coords={'z_t':vert_grid})\n",
    "ds_out['z_t'].attrs['bounds'] = 'z_t_bounds'\n",
    "\n",
    "inputdata = '/glade/p/cesmdata/cseg/inputdata/'\n",
    "cell_depth = xr.open_dataset(inputdata+'ocn/mom/tx0.66v1/ocean_topog_190314.nc')['depth'].data\n",
    "active_level_count = np.zeros(cell_depth.shape)\n",
    "for k, depth in enumerate(vert_grid):\n",
    "    active_level_count = np.where(cell_depth>=depth, k, active_level_count)\n"
   ]
  },
  {
   "cell_type": "code",
   "execution_count": 35,
   "metadata": {},
   "outputs": [
    {
     "name": "stdout",
     "output_type": "stream",
     "text": [
      "starting MASK computation\n",
      "3832093\n",
      "3832093\n"
     ]
    }
   ],
   "source": [
    "# generate output grid 3D mask\n",
    "\n",
    "nk = len(ds_out.z_t)\n",
    "nj, ni = ds_out.grid_dims.data\n",
    "\n",
    "# make 3D array of 0:km\n",
    "zero_to_km = xr.DataArray(np.arange(0, nk), dims=('z_t'))\n",
    "ONES_3d = xr.DataArray(np.ones((nk, ni, nj)), dims=('z_t', 'nlon', 'nlat'))\n",
    "ZERO_TO_KM = (zero_to_km * ONES_3d)\n",
    "\n",
    "# mask out cells where k is below KMT\n",
    "MASK = ZERO_TO_KM.where(ZERO_TO_KM < active_level_count)\n",
    "MASK = xr.where(MASK.notnull(), True, False)\n",
    "MASK['z_t'] = ds_out.z_t"
   ]
  },
  {
   "cell_type": "code",
   "execution_count": 36,
   "metadata": {},
   "outputs": [
    {
     "name": "stdout",
     "output_type": "stream",
     "text": [
      "regridding TEMP\n"
     ]
    },
    {
     "ename": "NotImplementedError",
     "evalue": "Grid file generation is not implemented",
     "output_type": "error",
     "traceback": [
      "\u001b[0;31m---------------------------------------------------------------------------\u001b[0m",
      "\u001b[0;31mNotImplementedError\u001b[0m                       Traceback (most recent call last)",
      "\u001b[0;32m<ipython-input-36-4fc61626ffa8>\u001b[0m in \u001b[0;36m<module>\u001b[0;34m\u001b[0m\n\u001b[1;32m     13\u001b[0m     regrid_operator = esmlab_regrid.regridder(\n\u001b[1;32m     14\u001b[0m         \u001b[0mname_grid_src\u001b[0m\u001b[0;34m=\u001b[0m\u001b[0momip_metadata\u001b[0m\u001b[0;34m[\u001b[0m\u001b[0mtracername\u001b[0m\u001b[0;34m]\u001b[0m\u001b[0;34m[\u001b[0m\u001b[0;34m'grid'\u001b[0m\u001b[0;34m]\u001b[0m\u001b[0;34m,\u001b[0m\u001b[0;34m\u001b[0m\u001b[0;34m\u001b[0m\u001b[0m\n\u001b[0;32m---> 15\u001b[0;31m         name_grid_dst=dst_grid, method=interp_method, overwrite_existing=False)\n\u001b[0m\u001b[1;32m     16\u001b[0m     \u001b[0mtracer_omip\u001b[0m \u001b[0;34m=\u001b[0m \u001b[0mds_omip\u001b[0m\u001b[0;34m[\u001b[0m\u001b[0mvarname_omip\u001b[0m\u001b[0;34m]\u001b[0m\u001b[0;34m\u001b[0m\u001b[0;34m\u001b[0m\u001b[0m\n\u001b[1;32m     17\u001b[0m     \u001b[0;32mif\u001b[0m \u001b[0;34m'time'\u001b[0m \u001b[0;32min\u001b[0m \u001b[0mtracer_omip\u001b[0m\u001b[0;34m.\u001b[0m\u001b[0mdims\u001b[0m\u001b[0;34m:\u001b[0m\u001b[0;34m\u001b[0m\u001b[0;34m\u001b[0m\u001b[0m\n",
      "\u001b[0;32m/glade/work/mlevy/miniconda3/envs/analysis/lib/python3.7/site-packages/esmlab_regrid/core.py\u001b[0m in \u001b[0;36m__init__\u001b[0;34m(self, name_grid_src, name_grid_dst, method, overwrite_existing)\u001b[0m\n\u001b[1;32m     72\u001b[0m         \u001b[0mself\u001b[0m\u001b[0;34m.\u001b[0m\u001b[0mname_grid_src\u001b[0m \u001b[0;34m=\u001b[0m \u001b[0mname_grid_src\u001b[0m\u001b[0;34m\u001b[0m\u001b[0;34m\u001b[0m\u001b[0m\n\u001b[1;32m     73\u001b[0m         \u001b[0mself\u001b[0m\u001b[0;34m.\u001b[0m\u001b[0mname_grid_dst\u001b[0m \u001b[0;34m=\u001b[0m \u001b[0mname_grid_dst\u001b[0m\u001b[0;34m\u001b[0m\u001b[0;34m\u001b[0m\u001b[0m\n\u001b[0;32m---> 74\u001b[0;31m         \u001b[0mself\u001b[0m\u001b[0;34m.\u001b[0m\u001b[0mgrid_ref_src\u001b[0m \u001b[0;34m=\u001b[0m \u001b[0m_GridRef\u001b[0m\u001b[0;34m(\u001b[0m\u001b[0mname_grid_src\u001b[0m\u001b[0;34m)\u001b[0m\u001b[0;34m\u001b[0m\u001b[0;34m\u001b[0m\u001b[0m\n\u001b[0m\u001b[1;32m     75\u001b[0m         \u001b[0mself\u001b[0m\u001b[0;34m.\u001b[0m\u001b[0mgrid_ref_dst\u001b[0m \u001b[0;34m=\u001b[0m \u001b[0m_GridRef\u001b[0m\u001b[0;34m(\u001b[0m\u001b[0mname_grid_dst\u001b[0m\u001b[0;34m)\u001b[0m\u001b[0;34m\u001b[0m\u001b[0;34m\u001b[0m\u001b[0m\n\u001b[1;32m     76\u001b[0m         \u001b[0mself\u001b[0m\u001b[0;34m.\u001b[0m\u001b[0mmethod\u001b[0m \u001b[0;34m=\u001b[0m \u001b[0mmethod\u001b[0m\u001b[0;34m\u001b[0m\u001b[0;34m\u001b[0m\u001b[0m\n",
      "\u001b[0;32m/glade/work/mlevy/miniconda3/envs/analysis/lib/python3.7/site-packages/esmlab_regrid/core.py\u001b[0m in \u001b[0;36m__init__\u001b[0;34m(self, name, overwrite_existing)\u001b[0m\n\u001b[1;32m     18\u001b[0m \u001b[0;34m\u001b[0m\u001b[0m\n\u001b[1;32m     19\u001b[0m         \u001b[0mself\u001b[0m\u001b[0;34m.\u001b[0m\u001b[0mscrip_grid_file\u001b[0m \u001b[0;34m=\u001b[0m \u001b[0;34mf'{grid_file_dir}/{self.name}.nc'\u001b[0m\u001b[0;34m\u001b[0m\u001b[0;34m\u001b[0m\u001b[0m\n\u001b[0;32m---> 20\u001b[0;31m         \u001b[0mself\u001b[0m\u001b[0;34m.\u001b[0m\u001b[0m_gen_grid_file\u001b[0m\u001b[0;34m(\u001b[0m\u001b[0moverwrite_existing\u001b[0m\u001b[0;34m=\u001b[0m\u001b[0moverwrite_existing\u001b[0m\u001b[0;34m)\u001b[0m\u001b[0;34m\u001b[0m\u001b[0;34m\u001b[0m\u001b[0m\n\u001b[0m\u001b[1;32m     21\u001b[0m         \u001b[0mself\u001b[0m\u001b[0;34m.\u001b[0m\u001b[0m_esmf_grid_from_scrip\u001b[0m\u001b[0;34m(\u001b[0m\u001b[0;34m)\u001b[0m\u001b[0;34m\u001b[0m\u001b[0;34m\u001b[0m\u001b[0m\n\u001b[1;32m     22\u001b[0m \u001b[0;34m\u001b[0m\u001b[0m\n",
      "\u001b[0;32m/glade/work/mlevy/miniconda3/envs/analysis/lib/python3.7/site-packages/esmlab_regrid/core.py\u001b[0m in \u001b[0;36m_gen_grid_file\u001b[0;34m(self, overwrite_existing)\u001b[0m\n\u001b[1;32m     25\u001b[0m         \u001b[0;32mif\u001b[0m \u001b[0mos\u001b[0m\u001b[0;34m.\u001b[0m\u001b[0mpath\u001b[0m\u001b[0;34m.\u001b[0m\u001b[0mexists\u001b[0m\u001b[0;34m(\u001b[0m\u001b[0mself\u001b[0m\u001b[0;34m.\u001b[0m\u001b[0mscrip_grid_file\u001b[0m\u001b[0;34m)\u001b[0m \u001b[0;32mand\u001b[0m \u001b[0;32mnot\u001b[0m \u001b[0moverwrite_existing\u001b[0m\u001b[0;34m:\u001b[0m\u001b[0;34m\u001b[0m\u001b[0;34m\u001b[0m\u001b[0m\n\u001b[1;32m     26\u001b[0m             \u001b[0;32mreturn\u001b[0m\u001b[0;34m\u001b[0m\u001b[0;34m\u001b[0m\u001b[0m\n\u001b[0;32m---> 27\u001b[0;31m         \u001b[0;32mraise\u001b[0m \u001b[0mNotImplementedError\u001b[0m\u001b[0;34m(\u001b[0m\u001b[0;34m'Grid file generation is not implemented'\u001b[0m\u001b[0;34m)\u001b[0m\u001b[0;34m\u001b[0m\u001b[0;34m\u001b[0m\u001b[0m\n\u001b[0m\u001b[1;32m     28\u001b[0m \u001b[0;34m\u001b[0m\u001b[0m\n\u001b[1;32m     29\u001b[0m     \u001b[0;32mdef\u001b[0m \u001b[0m_esmf_grid_from_scrip\u001b[0m\u001b[0;34m(\u001b[0m\u001b[0mself\u001b[0m\u001b[0;34m)\u001b[0m\u001b[0;34m:\u001b[0m\u001b[0;34m\u001b[0m\u001b[0;34m\u001b[0m\u001b[0m\n",
      "\u001b[0;31mNotImplementedError\u001b[0m: Grid file generation is not implemented"
     ]
    }
   ],
   "source": [
    "USER = os.environ['USER']\n",
    "gridfile_directory = esmlab.config.set({'regrid.gridfile-directory': f'/glade/work/{USER}/esmlab-regrid'})\n",
    "\n",
    "for tracername in omip_metadata:\n",
    "    # decode_times=False because omip files have unsupported units\n",
    "    #     \"months since 0000-01-01 00:00:00\"\n",
    "    ds_omip = xr.open_dataset(dirin_omip+'/'+omip_metadata[tracername]['fname'], decode_times=False)\n",
    "    varname_omip = omip_metadata[tracername]['varname']\n",
    "\n",
    "    print(f'regridding {tracername}')\n",
    "\n",
    "    # perform lateral remapping\n",
    "    regrid_operator = esmlab_regrid.regridder(\n",
    "        name_grid_src=omip_metadata[tracername]['grid'], \n",
    "        name_grid_dst=dst_grid, method=interp_method, overwrite_existing=False)\n",
    "    tracer_omip = ds_omip[varname_omip]\n",
    "    if 'time' in tracer_omip.dims:\n",
    "        tracer_omip = tracer_omip.isel(time=0, drop=True)\n",
    "    tracer_lateral_regrid = regrid_operator(tracer_omip, renormalize=True)\n",
    "\n",
    "    # generate vertical remapping weights\n",
    "    depth_name_in = tracer_omip.dims[0]\n",
    "    depth_bounds_name = ds_omip[depth_name_in].attrs['bounds']\n",
    "    depth_remap_weights = gen_remap_weights_1d(\n",
    "        ds_omip[depth_bounds_name], ds_out['z_t_bounds'],\n",
    "        ds_omip[depth_name_in].attrs['units'], ds_out.dz.attrs['units'])\n",
    "\n",
    "    # perform vertical remapping\n",
    "    nk_in = tracer_lateral_regrid.shape[0]\n",
    "    tracer_lateral_regrid_flat = tracer_lateral_regrid.values.reshape((nk_in, nj*ni))\n",
    "    tracer_full_regrid_flat = depth_remap_weights.dot(tracer_lateral_regrid_flat)\n",
    "    tracer_full_regrid_values = tracer_full_regrid_flat.reshape((nk, nj, ni))\n",
    "    tracer_full_regrid = xr.DataArray(tracer_full_regrid_values, dims=('z_t', 'nlat', 'nlon'),\n",
    "                                      coords={'z_t':ds_out.z_t}, attrs=tracer_omip.attrs)\n",
    "    tracer_full_regrid = tracer_full_regrid.where(MASK)\n",
    "    tracer_full_regrid.encoding['_FillValue'] = tracer_omip.encoding['_FillValue']\n",
    "    \n",
    "    # perform lateral fill\n",
    "    tracer_full_regrid = pop_tools.lateral_fill(tracer_full_regrid, MASK, ltripole=ltripole)\n",
    "\n",
    "    # perform vertical fill\n",
    "    unfilled = tracer_full_regrid.isnull() & (MASK == 1.)                    \n",
    "    if unfilled.any():\n",
    "        for k in range(1, nk):\n",
    "            tracer_full_regrid[k, :, :] = xr.where(unfilled[k, :, :],\n",
    "                                                   tracer_full_regrid[k-1, :, :],\n",
    "                                                   tracer_full_regrid[k, :, :])\n",
    "        if (tracer_full_regrid.isnull() & (MASK == 1.)).any():\n",
    "            warnings.warn(f'{tracername} still has missing values')\n",
    "\n",
    "    ds_out[tracername] = tracer_full_regrid\n",
    "ds_out"
   ]
  },
  {
   "cell_type": "code",
   "execution_count": null,
   "metadata": {},
   "outputs": [],
   "source": [
    "# special treatment of DIC and ALK in marginal seas\n",
    "SALT = ds_out.SALT\n",
    "DIC = ds_out.DIC\n",
    "ALK = ds_out.ALK\n",
    "rho_0 = 1.026\n",
    "\n",
    "# Black Sea\n",
    "# fit by eye from Fig 6 of Goyet, Bradshaw, Brewer\n",
    "# The carbonate system in the Black Sea\n",
    "# Deep-Sea Research, part A, Vol 38, Suppl 2, 1991, pp. S1049-S1068\n",
    "MASK_fit = MASK & (ds_out.REGION_MASK == -13) & (SALT <= 21.0)\n",
    "ALK = xr.where(MASK_fit, 3250.0, ALK)\n",
    "DIC = xr.where(MASK_fit, 3250.0, DIC)\n",
    "MASK_fit = MASK & (ds_out.REGION_MASK == -13) & (SALT <= 19.5)\n",
    "DIC = xr.where(MASK_fit, 3000.0 + (SALT - 18) / (19.5 - 18) * (3250 - 3000), DIC)\n",
    "MASK_fit = MASK & (ds_out.REGION_MASK == -13) & (SALT > 21.0)\n",
    "ALK = xr.where(MASK_fit, 3300.0 + (SALT - 21) / (22.3 - 21) * (4500 - 3300), ALK)\n",
    "DIC = xr.where(MASK_fit, (ALK + 1000) / 1.32, DIC)\n",
    "\n",
    "# Baltic Sea\n",
    "# Hjalmarsson et al, Distribution, long-term development and mass\n",
    "# balance calculation of total alkalinity in the Baltic Sea,\n",
    "# Continental Shelf Research, Vol 28, 2008, pp. 593-601\n",
    "# linear fits from Table 2\n",
    "# one fit for psu < 7.3 for Gulf of Bothnia and Bothnian Sea\n",
    "# another fit for Baltic Proper\n",
    "# ignore values from Gulf of Finland and Gulf of Riga\n",
    "# paper reports in umol/L, convert to umol/kg\n",
    "MASK_fit = MASK & (ds_out.REGION_MASK == -12) & (SALT <= 7.3)\n",
    "ALK = xr.where(MASK_fit, (119.0 + 196.0 * SALT) / rho_0, ALK)\n",
    "DIC = xr.where(MASK_fit, ALK / 1.01, DIC)\n",
    "MASK_fit = MASK & (ds_out.REGION_MASK == -12) & (SALT > 7.3)\n",
    "ALK = xr.where(MASK_fit, (1237.0 + 43.0 * SALT) / rho_0, ALK)\n",
    "DIC = xr.where(MASK_fit, ALK / 1.01, DIC)\n",
    "\n",
    "ds_out['DIC'].values = DIC.values\n",
    "ds_out['ALK'].values = ALK.values"
   ]
  },
  {
   "cell_type": "code",
   "execution_count": null,
   "metadata": {},
   "outputs": [],
   "source": [
    "# change units of omip vars to model units\n",
    "for tracername in omip_metadata:\n",
    "    units = ds_out[tracername].attrs['units']\n",
    "    if 'kg' in units:\n",
    "        ds_out[tracername].values *= rho_0\n",
    "        ds_out[tracername].attrs['units'] = units.replace('kg', 'L')\n",
    "        ds_out[tracername].attrs['rho_0'] = rho_0\n",
    "    if tracername == 'O2' and (units == 'ml/L' or units == 'milliliters_per_liter'):\n",
    "        ds_out[tracername].values *= (1.0e3 / 22.3916)\n",
    "        ds_out[tracername].attrs['units'] = 'umol/L'"
   ]
  },
  {
   "cell_type": "code",
   "execution_count": null,
   "metadata": {},
   "outputs": [],
   "source": [
    "# copy from refcase restart file to ds_out tracers not yet in ds_out\n",
    "\n",
    "fillvalue = -1.0e34 # value to replace land values with\n",
    "\n",
    "ds_refcase = xr.open_dataset(fname_refcase).rename({'k':'z_t', 'j':'nlat', 'i':'nlon'})\n",
    "ds_refcase['z_t'] = ds_out['z_t']\n",
    "for tracername in tracernames:\n",
    "    if tracername not in ds_out.data_vars:\n",
    "        print(f'copying {tracername} from {refcase} restart file')\n",
    "        tracer = ds_refcase[tracername+'_CUR']\n",
    "        tracer = tracer.where(MASK)\n",
    "        # Set floor values that are 0.0 to value 1 layer shallower.\n",
    "        # This is to fill in values where KMT was popped up by overflow parameterization.\n",
    "        # This is needed to enable using ds_out in runs where overflows are disabled.\n",
    "        for k in range(1, nk):\n",
    "            tracer[k, :, :] = xr.where((tracer[k, :, :] == 0.0) & (k+1 == ds_out.KMT),\n",
    "                                       tracer[k-1, :, :], tracer[k, :, :])\n",
    "        tracer.attrs['coordinates'] = 'TLONG TLAT z_t'\n",
    "        tracer.encoding['_FillValue'] = fillvalue\n",
    "        ds_out[tracername] = tracer"
   ]
  },
  {
   "cell_type": "code",
   "execution_count": null,
   "metadata": {},
   "outputs": [],
   "source": [
    "# set derived quantities\n",
    "\n",
    "ds_out['DIC_ALT_CO2'] = ds_out['DIC']\n",
    "ds_out['ALK_ALT_CO2'] = ds_out['ALK']\n",
    "DOCtot = ds_out['DOC'].copy()\n",
    "DOCtot.values = ds_out['DOC'].values + ds_out['DOCr'].values\n",
    "DOCtot.attrs['long_name'] = 'DOC + DOCr'\n",
    "ds_out['DOCtot'] = DOCtot"
   ]
  },
  {
   "cell_type": "code",
   "execution_count": null,
   "metadata": {},
   "outputs": [],
   "source": [
    "# write generated file\n",
    "\n",
    "datestamp = datetime.now(timezone.utc).strftime(\"%Y-%m-%d\")\n",
    "ds_out.attrs['history'] = f'created by {id_string} on {datestamp}'\n",
    "omip_file_list = [dirin_omip+'/'+omip_metadata[varname]['fname'] for varname in omip_metadata]\n",
    "ds_out.attrs['input_file_list'] = ' '.join(omip_file_list + [fname_refcase])\n",
    "util.ds_clean(ds_out).to_netcdf(fname_out)"
   ]
  },
  {
   "cell_type": "code",
   "execution_count": null,
   "metadata": {},
   "outputs": [],
   "source": []
  }
 ],
 "metadata": {
  "kernelspec": {
   "display_name": "Python [conda env:analysis]",
   "language": "python",
   "name": "conda-env-analysis-py"
  },
  "language_info": {
   "codemirror_mode": {
    "name": "ipython",
    "version": 3
   },
   "file_extension": ".py",
   "mimetype": "text/x-python",
   "name": "python",
   "nbconvert_exporter": "python",
   "pygments_lexer": "ipython3",
   "version": "3.7.3"
  }
 },
 "nbformat": 4,
 "nbformat_minor": 2
}
