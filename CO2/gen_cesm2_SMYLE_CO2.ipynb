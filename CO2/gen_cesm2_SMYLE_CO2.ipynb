{
 "cells": [
  {
   "cell_type": "code",
   "execution_count": 1,
   "metadata": {},
   "outputs": [],
   "source": [
    "from datetime import date, datetime, timezone\n",
    "\n",
    "import cftime\n",
    "import git\n",
    "import matplotlib.pyplot as plt\n",
    "import numpy as np\n",
    "import xarray as xr\n",
    "\n",
    "import config\n",
    "import utils"
   ]
  },
  {
   "cell_type": "code",
   "execution_count": 2,
   "metadata": {},
   "outputs": [],
   "source": [
    "# script identifier to go in generated file\n",
    "\n",
    "repo = 'github.com/marbl-ecosys/marbl-forcing'\n",
    "sha = git.Repo(search_parent_directories=True).head.object.hexsha\n",
    "script_fname = 'CO2/gen_cesm2_omip_CO2.ipynb'\n",
    "id_string = f'{repo}/tree/{sha}/{script_fname}'"
   ]
  },
  {
   "cell_type": "code",
   "execution_count": 3,
   "metadata": {},
   "outputs": [
    {
     "name": "stdout",
     "output_type": "stream",
     "text": [
      "/glade/p/cesmdata/cseg/inputdata/atm/datm7/CO2/fco2_datm_global_simyr_1750-2014_CMIP6_c180929.nc\n",
      "/glade/p/cesmdata/cseg/inputdata/atm/datm7/CO2/fco2_datm_globalSSP3-7.0__simyr_2014-2501_CMIP6_c190506.nc\n"
     ]
    }
   ],
   "source": [
    "# input files\n",
    "\n",
    "dirin = f'{config.inputdata}/atm/datm7/CO2'\n",
    "fname_hist = f'{dirin}/fco2_datm_global_simyr_1750-2014_CMIP6_c180929.nc'\n",
    "fname_ssp370 = f'{dirin}/fco2_datm_globalSSP3-7.0__simyr_2014-2501_CMIP6_c190506.nc'\n",
    "\n",
    "print(fname_hist)\n",
    "print(fname_ssp370)\n",
    "\n",
    "# drop date, because it is not used by streams\n",
    "# drop time_bnds, because it is FillValue in input datasets\n",
    "drop_vars = ('date', 'time_bnds')\n",
    "ds_hist = xr.open_dataset(fname_hist, drop_variables=drop_vars)\n",
    "ds_ssp370 = xr.open_dataset(fname_ssp370, drop_variables=drop_vars)"
   ]
  },
  {
   "cell_type": "code",
   "execution_count": 4,
   "metadata": {},
   "outputs": [],
   "source": [
    "# details on file being generated\n",
    "\n",
    "yr_range = (1750, 2025)\n",
    "yr_hist_ssp370_boundary = 2015\n",
    "datestamp = date.today().strftime(\"%y%m%d\")\n",
    "fname_out = f'fco2_datm_global_ssp370_simyr_{yr_range[0]:04d}-{yr_range[1]:04d}_CMIP6_c{datestamp}.nc'"
   ]
  },
  {
   "cell_type": "code",
   "execution_count": 5,
   "metadata": {},
   "outputs": [],
   "source": [
    "# construct time values for new dataset\n",
    "\n",
    "time_units = 'days since %04d-01-01' % yr_range[0]\n",
    "calendar = 'noleap'\n",
    "\n",
    "time_edges = 365.0 * np.arange(yr_range[1] - yr_range[0] + 2)\n",
    "time_bnds_vals = np.stack((time_edges[:-1], time_edges[1:]), axis=1)\n",
    "time_vals = np.mean(time_bnds_vals, axis=1)\n",
    "\n",
    "time_var = xr.DataArray(time_vals, dims='time', coords={'time':time_vals},\n",
    "                        attrs={'long_name':'time', 'units':time_units, 'calendar':calendar, 'bounds':'time_bnds'})\n",
    "time_bnds_var = xr.DataArray(time_bnds_vals, dims=('time', 'd2'), coords={'time':time_var})"
   ]
  },
  {
   "cell_type": "code",
   "execution_count": 6,
   "metadata": {},
   "outputs": [
    {
     "data": {
      "image/png": "[encoded data removed]",
      "text/plain": [
       "<Figure size 432x288 with 1 Axes>"
      ]
     },
     "metadata": {
      "needs_background": "light"
     },
     "output_type": "display_data"
    }
   ],
   "source": [
    "# construct merged CO2 variable\n",
    "\n",
    "CO2_vals = np.zeros((len(time_vals), ds_hist.dims['lat'], ds_hist.dims['lon']))\n",
    "\n",
    "CO2_vals[:yr_hist_ssp370_boundary-yr_range[0]] = \\\n",
    "    ds_hist.CO2.sel(time=slice(f'{yr_range[0]:04d}-01-01', f'{yr_hist_ssp370_boundary:04d}-01-01')).values\n",
    "\n",
    "CO2_vals[yr_hist_ssp370_boundary-yr_range[0]:] = \\\n",
    "    ds_ssp370.CO2.sel(time=slice(f'{yr_hist_ssp370_boundary:04d}-01-01', f'{yr_range[1]+1:04d}-01-01')).values\n",
    "\n",
    "CO2_var = xr.DataArray(CO2_vals, dims=('time', 'lat', 'lon'), coords={'time':time_var})\n",
    "CO2_var.attrs = ds_hist.CO2.attrs\n",
    "CO2_var.attrs['long_name'] = CO2_var.attrs.pop('lname')\n",
    "\n",
    "h = CO2_var.plot()"
   ]
  },
  {
   "cell_type": "code",
   "execution_count": 7,
   "metadata": {},
   "outputs": [],
   "source": [
    "# construct new dataset, preserving grid and domain variables from ds_hist\n",
    "\n",
    "ds_out = ds_hist.drop(['time', 'CO2'])\n",
    "ds_out['time'] = time_var\n",
    "ds_out['time_bnds'] = time_bnds_var\n",
    "ds_out['CO2'] = CO2_var\n",
    "\n",
    "# for all variables, rename lname attribute to long_name\n",
    "for var in ds_out.variables:\n",
    "    if 'lname' in ds_out[var].attrs:\n",
    "        ds_out[var].attrs['long_name'] = ds_out[var].attrs.pop('lname')\n",
    "\n",
    "ds_out.attrs = {} # drop file metadata from ds_hist\n",
    "datestamp = datetime.now(timezone.utc).strftime(\"%Y-%m-%d\")\n",
    "ds_out.attrs['history'] = f'created by {id_string} on {datestamp}'\n",
    "ds_out.attrs['input_file_list'] = ' '.join([fname_hist, fname_ssp370])\n",
    "\n",
    "utils.ds_clean(ds_out).to_netcdf(fname_out, unlimited_dims='time')"
   ]
  },
  {
   "cell_type": "code",
   "execution_count": null,
   "metadata": {},
   "outputs": [],
   "source": []
  }
 ],
 "metadata": {
  "kernelspec": {
   "display_name": "Python [conda env:analysis]",
   "language": "python",
   "name": "conda-env-analysis-py"
  },
  "language_info": {
   "codemirror_mode": {
    "name": "ipython",
    "version": 3
   },
   "file_extension": ".py",
   "mimetype": "text/x-python",
   "name": "python",
   "nbconvert_exporter": "python",
   "pygments_lexer": "ipython3",
   "version": "3.7.3"
  }
 },
 "nbformat": 4,
 "nbformat_minor": 4
}
